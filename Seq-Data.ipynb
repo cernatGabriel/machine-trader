{
 "cells": [
  {
   "cell_type": "code",
   "execution_count": 1,
   "id": "e249bd43",
   "metadata": {},
   "outputs": [],
   "source": [
    "import numpy as np\n",
    "import pandas as pd\n",
    "from statsmodels.tsa.stattools import adfuller\n",
    "from sklearn.preprocessing import MinMaxScaler\n",
    "import torch\n",
    "from torch.utils.data import Dataset, DataLoader\n",
    "import matplotlib.pyplot as plt"
   ]
  },
  {
   "cell_type": "code",
   "execution_count": 2,
   "id": "5ee0a766",
   "metadata": {},
   "outputs": [
    {
     "data": {
      "text/html": [
       "<div>\n",
       "<style scoped>\n",
       "    .dataframe tbody tr th:only-of-type {\n",
       "        vertical-align: middle;\n",
       "    }\n",
       "\n",
       "    .dataframe tbody tr th {\n",
       "        vertical-align: top;\n",
       "    }\n",
       "\n",
       "    .dataframe thead th {\n",
       "        text-align: right;\n",
       "    }\n",
       "</style>\n",
       "<table border=\"1\" class=\"dataframe\">\n",
       "  <thead>\n",
       "    <tr style=\"text-align: right;\">\n",
       "      <th></th>\n",
       "      <th>Open</th>\n",
       "      <th>Adj Close</th>\n",
       "      <th>MA_12</th>\n",
       "      <th>MA_21</th>\n",
       "      <th>HMM</th>\n",
       "      <th>lrets_bench</th>\n",
       "      <th>lrets_strat</th>\n",
       "    </tr>\n",
       "  </thead>\n",
       "  <tbody>\n",
       "    <tr>\n",
       "      <th>0</th>\n",
       "      <td>256.820007</td>\n",
       "      <td>242.321487</td>\n",
       "      <td>233.622290</td>\n",
       "      <td>238.259514</td>\n",
       "      <td>2</td>\n",
       "      <td>0.009351</td>\n",
       "      <td>0.000000</td>\n",
       "    </tr>\n",
       "    <tr>\n",
       "      <th>1</th>\n",
       "      <td>257.559998</td>\n",
       "      <td>243.454041</td>\n",
       "      <td>234.584504</td>\n",
       "      <td>238.076622</td>\n",
       "      <td>3</td>\n",
       "      <td>0.004663</td>\n",
       "      <td>-0.000000</td>\n",
       "    </tr>\n",
       "    <tr>\n",
       "      <th>2</th>\n",
       "      <td>256.260010</td>\n",
       "      <td>244.312790</td>\n",
       "      <td>236.014256</td>\n",
       "      <td>237.912283</td>\n",
       "      <td>2</td>\n",
       "      <td>0.003521</td>\n",
       "      <td>0.000000</td>\n",
       "    </tr>\n",
       "    <tr>\n",
       "      <th>3</th>\n",
       "      <td>257.679993</td>\n",
       "      <td>244.407166</td>\n",
       "      <td>237.952047</td>\n",
       "      <td>237.749759</td>\n",
       "      <td>3</td>\n",
       "      <td>0.000386</td>\n",
       "      <td>-0.000000</td>\n",
       "    </tr>\n",
       "    <tr>\n",
       "      <th>4</th>\n",
       "      <td>256.859985</td>\n",
       "      <td>242.916016</td>\n",
       "      <td>238.834431</td>\n",
       "      <td>237.456805</td>\n",
       "      <td>2</td>\n",
       "      <td>-0.006120</td>\n",
       "      <td>0.003731</td>\n",
       "    </tr>\n",
       "  </tbody>\n",
       "</table>\n",
       "</div>"
      ],
      "text/plain": [
       "         Open   Adj Close       MA_12       MA_21  HMM  lrets_bench  \\\n",
       "0  256.820007  242.321487  233.622290  238.259514    2     0.009351   \n",
       "1  257.559998  243.454041  234.584504  238.076622    3     0.004663   \n",
       "2  256.260010  244.312790  236.014256  237.912283    2     0.003521   \n",
       "3  257.679993  244.407166  237.952047  237.749759    3     0.000386   \n",
       "4  256.859985  242.916016  238.834431  237.456805    2    -0.006120   \n",
       "\n",
       "   lrets_strat  \n",
       "0     0.000000  \n",
       "1    -0.000000  \n",
       "2     0.000000  \n",
       "3    -0.000000  \n",
       "4     0.003731  "
      ]
     },
     "execution_count": 2,
     "metadata": {},
     "output_type": "execute_result"
    }
   ],
   "source": [
    "df = pd.read_csv(\"data/HMM-SPY.csv\")\n",
    "features = [\"Open\", \"Adj Close\", \"MA_12\", \"MA_21\", \"HMM\", \"lrets_bench\", \"lrets_strat\"]\n",
    "df = df[features]\n",
    "df.head()"
   ]
  },
  {
   "cell_type": "code",
   "execution_count": 3,
   "id": "565757fb",
   "metadata": {},
   "outputs": [],
   "source": [
    "df[\"lrets_bench_roll\"] = df[\"lrets_bench\"].rolling(window=10).mean()\n",
    "df[\"TARGET\"] = df[\"lrets_strat\"].shift(1)\n",
    "df.dropna(inplace=True)"
   ]
  },
  {
   "cell_type": "code",
   "execution_count": 4,
   "id": "01206900",
   "metadata": {},
   "outputs": [],
   "source": [
    "# get non_stationary columns\n",
    "non_stationaries = []\n",
    "for column in df.columns:\n",
    "    dftest = adfuller(df[column].values)\n",
    "    p_value = dftest[1]\n",
    "    t_test = dftest[0] < dftest[4][\"1%\"]\n",
    "    if p_value > 0.05 or not t_test:\n",
    "        non_stationaries.append(column)\n",
    "df[non_stationaries] = np.log(df[non_stationaries])"
   ]
  },
  {
   "cell_type": "code",
   "execution_count": 5,
   "id": "af4d6efd",
   "metadata": {},
   "outputs": [],
   "source": [
    "scaler = MinMaxScaler()\n",
    "df.iloc[:, :-1] = scaler.fit_transform(df.iloc[:, :-1])"
   ]
  },
  {
   "cell_type": "code",
   "execution_count": 6,
   "id": "c6bf3e27",
   "metadata": {},
   "outputs": [],
   "source": [
    "#split the data\n",
    "X_data = df.iloc[:, : -1].values\n",
    "y_data = df.iloc[:, -1].values"
   ]
  },
  {
   "cell_type": "code",
   "execution_count": 7,
   "id": "f069e23c",
   "metadata": {},
   "outputs": [],
   "source": [
    "def split_sequence(input_data, n_steps):\n",
    "    X = list()\n",
    "    for i in range(len(input_data)):\n",
    "        end_ix = i + n_steps\n",
    "        if end_ix > len(input_data)-1:\n",
    "            break\n",
    "        seq_x = input_data[i:end_ix, :-1]        \n",
    "        X.append(seq_x)\n",
    "    return np.array(X)"
   ]
  },
  {
   "cell_type": "code",
   "execution_count": 8,
   "id": "f21d780d",
   "metadata": {},
   "outputs": [],
   "source": [
    "n_timesteps = 8\n",
    "\n",
    "X = split_sequence(X_data, n_timesteps)\n",
    "y = y_data[n_timesteps: ]"
   ]
  },
  {
   "cell_type": "code",
   "execution_count": 9,
   "id": "5c310a3a",
   "metadata": {
    "scrolled": false
   },
   "outputs": [
    {
     "name": "stdout",
     "output_type": "stream",
     "text": [
      "\n",
      "X summary:\n",
      "[[0.20064088 0.1777452  0.0472111  0.         0.33333333 0.50481327\n",
      "  0.53223262]\n",
      " [0.19651226 0.1803982  0.05237563 0.00496689 0.33333333 0.58226423\n",
      "  0.59579465]\n",
      " [0.19242205 0.18107234 0.05665925 0.01136369 0.66666667 0.57456887\n",
      "  0.59579465]\n",
      " [0.20465531 0.191766   0.06085597 0.02012078 1.         0.61353273\n",
      "  0.42164448]\n",
      " [0.19334353 0.18208334 0.06354648 0.02499517 0.66666667 0.53429341\n",
      "  0.63750451]\n",
      " [0.19605276 0.1803982  0.06564806 0.02923554 0.66666667 0.56539409\n",
      "  0.68835771]\n",
      " [0.20206512 0.20033197 0.06962947 0.0346993  1.         0.64946563\n",
      "  0.7835711 ]\n",
      " [0.21426199 0.21142959 0.07541099 0.04019253 0.66666667 0.61510364\n",
      "  0.79955837]]\n",
      "[[0.19651226 0.1803982  0.05237563 0.00496689 0.33333333 0.58226423\n",
      "  0.59579465]\n",
      " [0.19242205 0.18107234 0.05665925 0.01136369 0.66666667 0.57456887\n",
      "  0.59579465]\n",
      " [0.20465531 0.191766   0.06085597 0.02012078 1.         0.61353273\n",
      "  0.42164448]\n",
      " [0.19334353 0.18208334 0.06354648 0.02499517 0.66666667 0.53429341\n",
      "  0.63750451]\n",
      " [0.19605276 0.1803982  0.06564806 0.02923554 0.66666667 0.56539409\n",
      "  0.68835771]\n",
      " [0.20206512 0.20033197 0.06962947 0.0346993  1.         0.64946563\n",
      "  0.7835711 ]\n",
      " [0.21426199 0.21142959 0.07541099 0.04019253 0.66666667 0.61510364\n",
      "  0.79955837]\n",
      " [0.2274973  0.21204049 0.07987561 0.04563017 1.         0.57432295\n",
      "  0.59272153]]\n",
      "\n",
      "y summary:\n",
      "0.009820352376471\n",
      "-0.0001481084904742\n"
     ]
    }
   ],
   "source": [
    "# summarize and check the X sequence\n",
    "print(\"\")\n",
    "print(\"X summary:\")\n",
    "counts = 0\n",
    "for i in range(len(X)):\n",
    "    counts += 1\n",
    "    if counts <=2:\n",
    "        print(X[i])\n",
    "    else:\n",
    "        break\n",
    "\n",
    "# summarize and check the y sequence\n",
    "print(\"\")\n",
    "print(\"y summary:\")\n",
    "counts = 0\n",
    "for i in range(len(y)):\n",
    "    counts += 1\n",
    "    if counts <=2:\n",
    "        print(y[i])\n",
    "    else:\n",
    "        break"
   ]
  },
  {
   "cell_type": "code",
   "execution_count": 10,
   "id": "ef90de96",
   "metadata": {},
   "outputs": [],
   "source": [
    "class dataset(Dataset):\n",
    "    def __init__(self,X,y):\n",
    "        self.X = torch.tensor(X,dtype=torch.float32)\n",
    "        self.y = torch.tensor(y,dtype=torch.float32)\n",
    "        self.length = self.X.shape[0]\n",
    "    def __getitem__(self,idx):\n",
    "        return self.X[idx],self.y[idx]\n",
    "    def __len__(self):\n",
    "        return self.length\n",
    "\n",
    "# Trainset\n",
    "trainset = dataset(X, y)\n",
    "\n",
    "# Data Loader\n",
    "trainloader = DataLoader(trainset, batch_size=20, shuffle=False)"
   ]
  },
  {
   "cell_type": "code",
   "execution_count": 11,
   "id": "1579d484",
   "metadata": {},
   "outputs": [
    {
     "name": "stdout",
     "output_type": "stream",
     "text": [
      "torch.Size([835, 8, 7])\n"
     ]
    },
    {
     "data": {
      "text/plain": [
       "tensor([[[0.2006, 0.1777, 0.0472, 0.0000, 0.3333, 0.5048, 0.5322],\n",
       "         [0.1965, 0.1804, 0.0524, 0.0050, 0.3333, 0.5823, 0.5958],\n",
       "         [0.1924, 0.1811, 0.0567, 0.0114, 0.6667, 0.5746, 0.5958],\n",
       "         [0.2047, 0.1918, 0.0609, 0.0201, 1.0000, 0.6135, 0.4216],\n",
       "         [0.1933, 0.1821, 0.0635, 0.0250, 0.6667, 0.5343, 0.6375],\n",
       "         [0.1961, 0.1804, 0.0656, 0.0292, 0.6667, 0.5654, 0.6884],\n",
       "         [0.2021, 0.2003, 0.0696, 0.0347, 1.0000, 0.6495, 0.7836],\n",
       "         [0.2143, 0.2114, 0.0754, 0.0402, 0.6667, 0.6151, 0.7996]],\n",
       "\n",
       "        [[0.1965, 0.1804, 0.0524, 0.0050, 0.3333, 0.5823, 0.5958],\n",
       "         [0.1924, 0.1811, 0.0567, 0.0114, 0.6667, 0.5746, 0.5958],\n",
       "         [0.2047, 0.1918, 0.0609, 0.0201, 1.0000, 0.6135, 0.4216],\n",
       "         [0.1933, 0.1821, 0.0635, 0.0250, 0.6667, 0.5343, 0.6375],\n",
       "         [0.1961, 0.1804, 0.0656, 0.0292, 0.6667, 0.5654, 0.6884],\n",
       "         [0.2021, 0.2003, 0.0696, 0.0347, 1.0000, 0.6495, 0.7836],\n",
       "         [0.2143, 0.2114, 0.0754, 0.0402, 0.6667, 0.6151, 0.7996],\n",
       "         [0.2275, 0.2120, 0.0799, 0.0456, 1.0000, 0.5743, 0.5927]],\n",
       "\n",
       "        [[0.1924, 0.1811, 0.0567, 0.0114, 0.6667, 0.5746, 0.5958],\n",
       "         [0.2047, 0.1918, 0.0609, 0.0201, 1.0000, 0.6135, 0.4216],\n",
       "         [0.1933, 0.1821, 0.0635, 0.0250, 0.6667, 0.5343, 0.6375],\n",
       "         [0.1961, 0.1804, 0.0656, 0.0292, 0.6667, 0.5654, 0.6884],\n",
       "         [0.2021, 0.2003, 0.0696, 0.0347, 1.0000, 0.6495, 0.7836],\n",
       "         [0.2143, 0.2114, 0.0754, 0.0402, 0.6667, 0.6151, 0.7996],\n",
       "         [0.2275, 0.2120, 0.0799, 0.0456, 1.0000, 0.5743, 0.5927],\n",
       "         [0.2273, 0.2209, 0.0849, 0.0532, 0.6667, 0.6065, 0.7740]]])"
      ]
     },
     "execution_count": 11,
     "metadata": {},
     "output_type": "execute_result"
    }
   ],
   "source": [
    "print(trainset.X.shape)\n",
    "trainset.X[0:3]"
   ]
  },
  {
   "cell_type": "code",
   "execution_count": 12,
   "id": "e47eeaca",
   "metadata": {},
   "outputs": [
    {
     "data": {
      "text/plain": [
       "tensor([ 0.0098, -0.0001,  0.0086,  0.0013, -0.0068, -0.0081,  0.0000,  0.0045,\n",
       "         0.0095, -0.0046])"
      ]
     },
     "execution_count": 12,
     "metadata": {},
     "output_type": "execute_result"
    }
   ],
   "source": [
    "trainset.y[:10]"
   ]
  },
  {
   "cell_type": "code",
   "execution_count": 13,
   "id": "fe0dbf6c",
   "metadata": {},
   "outputs": [],
   "source": [
    "from torch import nn\n",
    "from torch.autograd import Variable\n",
    "\n",
    "class LSTM_Net(nn.Module):\n",
    "    def __init__(self, input_dim, hidden_dim, layer_dim, output_dim):\n",
    "        super(LSTM_Net, self).__init__()        \n",
    "        self.hidden_dim = hidden_dim\n",
    "        self.layer_dim = layer_dim\n",
    "        self.lstm = nn.LSTM(input_dim, hidden_dim, layer_dim, batch_first=True)\n",
    "        self.fc1 = nn.Linear(hidden_dim, 5)\n",
    "        self.fc2 = nn.Linear(5, output_dim)\n",
    "        \n",
    "    def forward(self, x):\n",
    "        h0 = Variable(torch.zeros(self.layer_dim, x.size(0), self.hidden_dim))                            \n",
    "        c0 = Variable(torch.zeros(self.layer_dim, x.size(0), self.hidden_dim))\n",
    "        ula, (h_out, _) = self.lstm(x, (h0, c0))\n",
    "        h_out = h_out.view(-1, self.hidden_dim)\n",
    "        out = self.fc1(h_out)\n",
    "        out = self.fc2(out)\n",
    "        \n",
    "        return out"
   ]
  },
  {
   "cell_type": "code",
   "execution_count": 14,
   "id": "dbd65286",
   "metadata": {},
   "outputs": [],
   "source": [
    "input_dim = X.shape[2]\n",
    "hidden_dim = 100\n",
    "layer_dim = 1\n",
    "output_dim = 1\n",
    "model = LSTM_Net(input_dim, hidden_dim, layer_dim, output_dim)\n"
   ]
  },
  {
   "cell_type": "code",
   "execution_count": 15,
   "id": "51078129",
   "metadata": {},
   "outputs": [
    {
     "name": "stdout",
     "output_type": "stream",
     "text": [
      "torch.Size([400, 7])\n",
      "torch.Size([400, 100])\n",
      "torch.Size([400])\n",
      "torch.Size([400])\n",
      "torch.Size([5, 100])\n",
      "torch.Size([5])\n",
      "torch.Size([1, 5])\n",
      "torch.Size([1])\n"
     ]
    }
   ],
   "source": [
    "for i in range(len(list(model.parameters()))):\n",
    "    print(list(model.parameters())[i].size())"
   ]
  },
  {
   "cell_type": "code",
   "execution_count": 16,
   "id": "ff288199",
   "metadata": {},
   "outputs": [
    {
     "name": "stdout",
     "output_type": "stream",
     "text": [
      "Loss: 6.920337796145759e-07\n",
      "Loss: 3.6115384318691213e-06\n",
      "Loss: 2.1946823835605755e-05\n",
      "Loss: 1.209432127780019e-07\n",
      "Loss: 8.741676538193133e-06\n",
      "Loss: 3.0876442451699404e-06\n",
      "Loss: 1.890551061478618e-06\n",
      "Loss: 0.00011230882228119299\n",
      "Loss: 3.2188805221267103e-07\n"
     ]
    },
    {
     "ename": "KeyboardInterrupt",
     "evalue": "",
     "output_type": "error",
     "traceback": [
      "\u001b[1;31m---------------------------------------------------------------------------\u001b[0m",
      "\u001b[1;31mKeyboardInterrupt\u001b[0m                         Traceback (most recent call last)",
      "Input \u001b[1;32mIn [16]\u001b[0m, in \u001b[0;36m<cell line: 9>\u001b[1;34m()\u001b[0m\n\u001b[0;32m     13\u001b[0m     loss \u001b[38;5;241m=\u001b[39m criterion(outputs, y_train\u001b[38;5;241m.\u001b[39munsqueeze(dim\u001b[38;5;241m=\u001b[39m\u001b[38;5;241m1\u001b[39m))                       \n\u001b[0;32m     14\u001b[0m     loss\u001b[38;5;241m.\u001b[39mbackward()\n\u001b[1;32m---> 15\u001b[0m     \u001b[43moptimizer\u001b[49m\u001b[38;5;241;43m.\u001b[39;49m\u001b[43mstep\u001b[49m\u001b[43m(\u001b[49m\u001b[43m)\u001b[49m\n\u001b[0;32m     16\u001b[0m     \u001b[38;5;28miter\u001b[39m \u001b[38;5;241m+\u001b[39m\u001b[38;5;241m=\u001b[39m \u001b[38;5;241m1\u001b[39m\n\u001b[0;32m     18\u001b[0m \u001b[38;5;28;01mif\u001b[39;00m \u001b[38;5;28miter\u001b[39m \u001b[38;5;241m%\u001b[39m \u001b[38;5;241m100\u001b[39m \u001b[38;5;241m==\u001b[39m \u001b[38;5;241m0\u001b[39m:\n",
      "File \u001b[1;32m~\\anaconda3\\lib\\site-packages\\torch\\optim\\optimizer.py:373\u001b[0m, in \u001b[0;36mOptimizer.profile_hook_step.<locals>.wrapper\u001b[1;34m(*args, **kwargs)\u001b[0m\n\u001b[0;32m    371\u001b[0m \u001b[38;5;28mself\u001b[39m \u001b[38;5;241m=\u001b[39m cast(Optimizer, \u001b[38;5;28mself\u001b[39m)\n\u001b[0;32m    372\u001b[0m profile_name \u001b[38;5;241m=\u001b[39m \u001b[38;5;124mf\u001b[39m\u001b[38;5;124m\"\u001b[39m\u001b[38;5;124mOptimizer.step#\u001b[39m\u001b[38;5;132;01m{\u001b[39;00m\u001b[38;5;28mself\u001b[39m\u001b[38;5;241m.\u001b[39m\u001b[38;5;18m__class__\u001b[39m\u001b[38;5;241m.\u001b[39m\u001b[38;5;18m__name__\u001b[39m\u001b[38;5;132;01m}\u001b[39;00m\u001b[38;5;124m.step\u001b[39m\u001b[38;5;124m\"\u001b[39m\n\u001b[1;32m--> 373\u001b[0m \u001b[38;5;28;01mwith\u001b[39;00m torch\u001b[38;5;241m.\u001b[39mautograd\u001b[38;5;241m.\u001b[39mprofiler\u001b[38;5;241m.\u001b[39mrecord_function(profile_name):\n\u001b[0;32m    374\u001b[0m     \u001b[38;5;66;03m# call optimizer step pre hooks\u001b[39;00m\n\u001b[0;32m    375\u001b[0m     \u001b[38;5;28;01mfor\u001b[39;00m pre_hook \u001b[38;5;129;01min\u001b[39;00m chain(_global_optimizer_pre_hooks\u001b[38;5;241m.\u001b[39mvalues(), \u001b[38;5;28mself\u001b[39m\u001b[38;5;241m.\u001b[39m_optimizer_step_pre_hooks\u001b[38;5;241m.\u001b[39mvalues()):\n\u001b[0;32m    376\u001b[0m         result \u001b[38;5;241m=\u001b[39m pre_hook(\u001b[38;5;28mself\u001b[39m, args, kwargs)\n",
      "File \u001b[1;32m~\\anaconda3\\lib\\site-packages\\torch\\autograd\\profiler.py:605\u001b[0m, in \u001b[0;36mrecord_function.__enter__\u001b[1;34m(self)\u001b[0m\n\u001b[0;32m    604\u001b[0m \u001b[38;5;28;01mdef\u001b[39;00m \u001b[38;5;21m__enter__\u001b[39m(\u001b[38;5;28mself\u001b[39m):\n\u001b[1;32m--> 605\u001b[0m     \u001b[38;5;28mself\u001b[39m\u001b[38;5;241m.\u001b[39mrecord \u001b[38;5;241m=\u001b[39m \u001b[43mtorch\u001b[49m\u001b[38;5;241;43m.\u001b[39;49m\u001b[43mops\u001b[49m\u001b[38;5;241;43m.\u001b[39;49m\u001b[43mprofiler\u001b[49m\u001b[38;5;241;43m.\u001b[39;49m\u001b[43m_record_function_enter_new\u001b[49m\u001b[43m(\u001b[49m\n\u001b[0;32m    606\u001b[0m \u001b[43m        \u001b[49m\u001b[38;5;28;43mself\u001b[39;49m\u001b[38;5;241;43m.\u001b[39;49m\u001b[43mname\u001b[49m\u001b[43m,\u001b[49m\u001b[43m \u001b[49m\u001b[38;5;28;43mself\u001b[39;49m\u001b[38;5;241;43m.\u001b[39;49m\u001b[43margs\u001b[49m\n\u001b[0;32m    607\u001b[0m \u001b[43m    \u001b[49m\u001b[43m)\u001b[49m\n\u001b[0;32m    608\u001b[0m     \u001b[38;5;28;01mreturn\u001b[39;00m \u001b[38;5;28mself\u001b[39m\n",
      "File \u001b[1;32m~\\anaconda3\\lib\\site-packages\\torch\\_ops.py:755\u001b[0m, in \u001b[0;36mOpOverloadPacket.__call__\u001b[1;34m(self, *args, **kwargs)\u001b[0m\n\u001b[0;32m    750\u001b[0m \u001b[38;5;28;01mdef\u001b[39;00m \u001b[38;5;21m__call__\u001b[39m(\u001b[38;5;28mself\u001b[39m, \u001b[38;5;241m*\u001b[39margs, \u001b[38;5;241m*\u001b[39m\u001b[38;5;241m*\u001b[39mkwargs):\n\u001b[0;32m    751\u001b[0m     \u001b[38;5;66;03m# overloading __call__ to ensure torch.ops.foo.bar()\u001b[39;00m\n\u001b[0;32m    752\u001b[0m     \u001b[38;5;66;03m# is still callable from JIT\u001b[39;00m\n\u001b[0;32m    753\u001b[0m     \u001b[38;5;66;03m# We save the function ptr as the `op` attribute on\u001b[39;00m\n\u001b[0;32m    754\u001b[0m     \u001b[38;5;66;03m# OpOverloadPacket to access it here.\u001b[39;00m\n\u001b[1;32m--> 755\u001b[0m     \u001b[38;5;28;01mreturn\u001b[39;00m \u001b[38;5;28mself\u001b[39m\u001b[38;5;241m.\u001b[39m_op(\u001b[38;5;241m*\u001b[39margs, \u001b[38;5;241m*\u001b[39m\u001b[38;5;241m*\u001b[39m(kwargs \u001b[38;5;129;01mor\u001b[39;00m {}))\n",
      "\u001b[1;31mKeyboardInterrupt\u001b[0m: "
     ]
    }
   ],
   "source": [
    "epochs = 1000\n",
    "\n",
    "criterion = torch.nn.MSELoss()    \n",
    "optimizer = torch.optim.AdamW(model.parameters(), lr=1e-1)\n",
    "\n",
    "losses = []\n",
    "\n",
    "iter = 0\n",
    "for epoch in range(epochs):\n",
    "    for i, (X_train, y_train) in enumerate(trainloader):\n",
    "        optimizer.zero_grad()\n",
    "        outputs = model(X_train)\n",
    "        loss = criterion(outputs, y_train.unsqueeze(dim=1))                       \n",
    "        loss.backward()\n",
    "        optimizer.step()\n",
    "        iter += 1\n",
    "        \n",
    "    if iter % 100 == 0:\n",
    "        print(f\"Loss: {loss}\")\n",
    "        losses.append(loss.detach())"
   ]
  },
  {
   "cell_type": "code",
   "execution_count": null,
   "id": "664cdbe3",
   "metadata": {},
   "outputs": [],
   "source": [
    "plt.plot(losses)\n",
    "plt.show()"
   ]
  },
  {
   "cell_type": "code",
   "execution_count": null,
   "id": "9147e570",
   "metadata": {},
   "outputs": [],
   "source": []
  }
 ],
 "metadata": {
  "kernelspec": {
   "display_name": "Python 3 (ipykernel)",
   "language": "python",
   "name": "python3"
  },
  "language_info": {
   "codemirror_mode": {
    "name": "ipython",
    "version": 3
   },
   "file_extension": ".py",
   "mimetype": "text/x-python",
   "name": "python",
   "nbconvert_exporter": "python",
   "pygments_lexer": "ipython3",
   "version": "3.9.12"
  }
 },
 "nbformat": 4,
 "nbformat_minor": 5
}
